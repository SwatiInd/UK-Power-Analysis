{
 "cells": [
  {
   "cell_type": "markdown",
   "metadata": {},
   "source": [
    "### Wind BOAs\n",
    "In this notebook, wind bid-offer acceptance data from April 23 to March 25 is fetched from NESO API, processed and analyzed as illustrated below. This analysis highlights that wind power curtailment is increasing every year. \n",
    "\n",
    "**Data Processing**\n",
    "- BOA volumes for each settlement period by generators are fetched from two different urls for April 23 to March 24, April 24 to March 25. Both of these are combined to analyze two years data. https://www.neso.energy/data-portal/wind-bmu-boa-volumes\n",
    "- The negative values of BOA volume represent that generators were requested to reduce the output volume. The given volume is in MW, an extra column is created for presenting curtailment in MWh units by multiplying by 0.5 due to half-an hour settlement period. \n",
    "- There is no null values and thus, data imputation method was not explored in the analysis.\n",
    "- Regions of wind warms were added by extracting information from  (https://www.neso.energy/data-portal/day-ahead-wind-forecast/day_ahead_wind_bmu_forecast).\n",
    "\n",
    "**Outcome**\n",
    "- Among all regions, south Scotland has the highest installed wind capacity, followed by the north Scotland.\n",
    "- In the period of April 23 to March 24, the total curtailment was 5.24. In the following year it increased almost by 66% to 8.7 TWh. \n",
    "- In the whole analysis period, monthly curtailment was maximum in December 24 of 1.36 TWh. \n",
    "- Offshore wind power is more curtailed than onshore probably due to grid constraints."
   ]
  },
  {
   "cell_type": "code",
   "execution_count": 1,
   "metadata": {},
   "outputs": [],
   "source": [
    "import numpy as np\n",
    "import matplotlib.pyplot as plt\n",
    "import matplotlib.dates as mdates\n",
    "import pandas as pd\n",
    "import urllib3"
   ]
  },
  {
   "cell_type": "code",
   "execution_count": 6,
   "metadata": {},
   "outputs": [],
   "source": [
    "def neso_api_to_df(api: str):\n",
    "    '''Fetches data from the NESO API and converts it into a Pandas DataFrame'''\n",
    "    try:\n",
    "        http = urllib3.PoolManager()\n",
    "        request = http.request('GET', api)\n",
    "        json_response = request.json() # NESO api returns data in JSON format\n",
    "        listed_data = json_response['result']['records']\n",
    "        df = pd.DataFrame(listed_data)\n",
    "        return df\n",
    "    except Exception as e:\n",
    "        print(f\"API request error: {e}\")\n",
    "        return pd.DataFrame()"
   ]
  },
  {
   "cell_type": "markdown",
   "metadata": {},
   "source": [
    "### Regional Capacity"
   ]
  },
  {
   "cell_type": "code",
   "execution_count": 9,
   "metadata": {},
   "outputs": [
    {
     "data": {
      "text/html": [
       "<div>\n",
       "<style scoped>\n",
       "    .dataframe tbody tr th:only-of-type {\n",
       "        vertical-align: middle;\n",
       "    }\n",
       "\n",
       "    .dataframe tbody tr th {\n",
       "        vertical-align: top;\n",
       "    }\n",
       "\n",
       "    .dataframe thead th {\n",
       "        text-align: right;\n",
       "    }\n",
       "</style>\n",
       "<table border=\"1\" class=\"dataframe\">\n",
       "  <thead>\n",
       "    <tr style=\"text-align: right;\">\n",
       "      <th></th>\n",
       "      <th>capacity (GW)</th>\n",
       "    </tr>\n",
       "    <tr>\n",
       "      <th>region</th>\n",
       "      <th></th>\n",
       "    </tr>\n",
       "  </thead>\n",
       "  <tbody>\n",
       "    <tr>\n",
       "      <th>south_scotland</th>\n",
       "      <td>4.07995</td>\n",
       "    </tr>\n",
       "    <tr>\n",
       "      <th>north_scotland</th>\n",
       "      <td>3.51955</td>\n",
       "    </tr>\n",
       "    <tr>\n",
       "      <th>north_sea_east_england</th>\n",
       "      <td>3.25600</td>\n",
       "    </tr>\n",
       "    <tr>\n",
       "      <th>north_sea_north_scotland</th>\n",
       "      <td>3.15100</td>\n",
       "    </tr>\n",
       "    <tr>\n",
       "      <th>north_sea_yorkshire_&amp;_humber</th>\n",
       "      <td>3.00200</td>\n",
       "    </tr>\n",
       "    <tr>\n",
       "      <th>irish_sea_north_west_england</th>\n",
       "      <td>1.83200</td>\n",
       "    </tr>\n",
       "    <tr>\n",
       "      <th>north_sea_south_east_england</th>\n",
       "      <td>0.91900</td>\n",
       "    </tr>\n",
       "    <tr>\n",
       "      <th>north_sea_east_midlands</th>\n",
       "      <td>0.82400</td>\n",
       "    </tr>\n",
       "    <tr>\n",
       "      <th>irish_sea_north_wales</th>\n",
       "      <td>0.76900</td>\n",
       "    </tr>\n",
       "    <tr>\n",
       "      <th>english_channel_south_east_england</th>\n",
       "      <td>0.40000</td>\n",
       "    </tr>\n",
       "    <tr>\n",
       "      <th>north_sea_south_scotland</th>\n",
       "      <td>0.25500</td>\n",
       "    </tr>\n",
       "    <tr>\n",
       "      <th>south_wales</th>\n",
       "      <td>0.21500</td>\n",
       "    </tr>\n",
       "    <tr>\n",
       "      <th>yorkshire_&amp;_humber</th>\n",
       "      <td>0.03200</td>\n",
       "    </tr>\n",
       "    <tr>\n",
       "      <th>east_midlands</th>\n",
       "      <td>0.01600</td>\n",
       "    </tr>\n",
       "  </tbody>\n",
       "</table>\n",
       "</div>"
      ],
      "text/plain": [
       "                                    capacity (GW)\n",
       "region                                           \n",
       "south_scotland                            4.07995\n",
       "north_scotland                            3.51955\n",
       "north_sea_east_england                    3.25600\n",
       "north_sea_north_scotland                  3.15100\n",
       "north_sea_yorkshire_&_humber              3.00200\n",
       "irish_sea_north_west_england              1.83200\n",
       "north_sea_south_east_england              0.91900\n",
       "north_sea_east_midlands                   0.82400\n",
       "irish_sea_north_wales                     0.76900\n",
       "english_channel_south_east_england        0.40000\n",
       "north_sea_south_scotland                  0.25500\n",
       "south_wales                               0.21500\n",
       "yorkshire_&_humber                        0.03200\n",
       "east_midlands                             0.01600"
      ]
     },
     "execution_count": 9,
     "metadata": {},
     "output_type": "execute_result"
    }
   ],
   "source": [
    "#Extracting information of wind farms by regions\n",
    "wind_forecast_url = 'https://api.neso.energy/api/3/action/datastore_search?resource_id=90e581e9-2d7f-4eaa-8fe0-6e323ee0f5f7&limit=200000'\n",
    "wind_forecast_df = neso_api_to_df(wind_forecast_url)\n",
    "#Tidying up columns and regions name\n",
    "wind_forecast_df.columns = [column.lower() for column in wind_forecast_df.columns]\n",
    "wind_forecast_df.region = wind_forecast_df.region.str.lower().str.replace(' - ', '_').str.replace(' ', '_')\n",
    "\n",
    "# Capacity by regions\n",
    "generators_region = wind_forecast_df[['generator_name', 'generator_full_name', 'region', 'capacity']]\n",
    "generators_region = generators_region.drop_duplicates() # \n",
    "total_cap_by_region = generators_region[['region', 'capacity']].groupby('region').sum().sort_values(by = 'capacity', ascending = False)/1000\n",
    "total_cap_by_region.columns = ['capacity (GW)']\n",
    "total_cap_by_region"
   ]
  },
  {
   "cell_type": "markdown",
   "metadata": {},
   "source": [
    "### Historical Wind BOA data"
   ]
  },
  {
   "cell_type": "code",
   "execution_count": 10,
   "metadata": {},
   "outputs": [],
   "source": [
    "#April 23 to March 24 data API\n",
    "wind_boas_23_api = 'https://api.neso.energy/api/3/action/datastore_search?resource_id=1edaa5fe-86fe-41b4-95b9-55e9ec45fab0&limit=2000000'\n",
    "df_23 = neso_api_to_df(wind_boas_23_api)\n",
    "# April 24 to March 25 data API\n",
    "wind_boas_24_api = 'https://api.neso.energy/api/3/action/datastore_search?resource_id=d3fbf6c1-7688-4486-8716-b5af0c895a5a&limit=2000000'\n",
    "df_24 = neso_api_to_df(wind_boas_24_api)"
   ]
  },
  {
   "cell_type": "code",
   "execution_count": 11,
   "metadata": {},
   "outputs": [
    {
     "name": "stdout",
     "output_type": "stream",
     "text": [
      "The data is from  2023-04-01 to 2025-03-08\n",
      "The given BOA volume is converted from MW to MWh\n"
     ]
    }
   ],
   "source": [
    "wind_curtail = pd.concat([df_23, df_24], axis = 0)\n",
    "wind_curtail.columns\n",
    "# Tidy up column names\n",
    "wind_curtail.columns = [column.lower() for column in wind_curtail.columns]\n",
    "wind_curtail.columns = [column[1:] if column.startswith(\"_\") else column for column in wind_curtail.columns]\n",
    "# wind_curtail.info()\n",
    "wind_curtail.date =pd.to_datetime(wind_curtail.date)\n",
    "start_date, end_date = wind_curtail.date.min(), wind_curtail.date.max()\n",
    "print('The data is from ', start_date.date(), 'to', end_date.date())\n",
    "diff_days = abs((end_date-start_date).days)\n",
    "\n",
    "print('The given BOA volume is converted from MW to MWh')\n",
    "wind_curtail.loc[:, 'volume_mwh'] = wind_curtail.boa_volume*0.5\n",
    "#Adding generators regions to curtailment dataframe\n",
    "merged_df = pd.merge(wind_curtail, generators_region, on = ['generator_name', 'generator_full_name'], how = 'left')"
   ]
  },
  {
   "cell_type": "markdown",
   "metadata": {},
   "source": [
    "**Curtailment by Generators**"
   ]
  },
  {
   "cell_type": "code",
   "execution_count": 12,
   "metadata": {},
   "outputs": [
    {
     "data": {
      "text/html": [
       "<div>\n",
       "<style scoped>\n",
       "    .dataframe tbody tr th:only-of-type {\n",
       "        vertical-align: middle;\n",
       "    }\n",
       "\n",
       "    .dataframe tbody tr th {\n",
       "        vertical-align: top;\n",
       "    }\n",
       "\n",
       "    .dataframe thead th {\n",
       "        text-align: right;\n",
       "    }\n",
       "</style>\n",
       "<table border=\"1\" class=\"dataframe\">\n",
       "  <thead>\n",
       "    <tr style=\"text-align: right;\">\n",
       "      <th></th>\n",
       "      <th>region</th>\n",
       "      <th>volume_twh</th>\n",
       "    </tr>\n",
       "    <tr>\n",
       "      <th>generator_name</th>\n",
       "      <th></th>\n",
       "      <th></th>\n",
       "    </tr>\n",
       "  </thead>\n",
       "  <tbody>\n",
       "    <tr>\n",
       "      <th>SGRWO-6</th>\n",
       "      <td>north_sea_north_scotlandnorth_sea_north_scotla...</td>\n",
       "      <td>-1.666509</td>\n",
       "    </tr>\n",
       "    <tr>\n",
       "      <th>SGRWO-1</th>\n",
       "      <td>north_sea_north_scotlandnorth_sea_north_scotla...</td>\n",
       "      <td>-1.231982</td>\n",
       "    </tr>\n",
       "    <tr>\n",
       "      <th>MOWEO-1</th>\n",
       "      <td>north_sea_north_scotlandnorth_sea_north_scotla...</td>\n",
       "      <td>-0.877936</td>\n",
       "    </tr>\n",
       "    <tr>\n",
       "      <th>SGRWO-3</th>\n",
       "      <td>north_sea_north_scotlandnorth_sea_north_scotla...</td>\n",
       "      <td>-0.701540</td>\n",
       "    </tr>\n",
       "    <tr>\n",
       "      <th>MOWEO-3</th>\n",
       "      <td>north_sea_north_scotlandnorth_sea_north_scotla...</td>\n",
       "      <td>-0.684345</td>\n",
       "    </tr>\n",
       "    <tr>\n",
       "      <th>MOWEO-2</th>\n",
       "      <td>north_sea_north_scotlandnorth_sea_north_scotla...</td>\n",
       "      <td>-0.680857</td>\n",
       "    </tr>\n",
       "    <tr>\n",
       "      <th>SGRWO-4</th>\n",
       "      <td>north_sea_north_scotlandnorth_sea_north_scotla...</td>\n",
       "      <td>-0.621286</td>\n",
       "    </tr>\n",
       "    <tr>\n",
       "      <th>SGRWO-5</th>\n",
       "      <td>north_sea_north_scotlandnorth_sea_north_scotla...</td>\n",
       "      <td>-0.352460</td>\n",
       "    </tr>\n",
       "    <tr>\n",
       "      <th>DOREW-1</th>\n",
       "      <td>north_scotlandnorth_scotlandnorth_scotlandnort...</td>\n",
       "      <td>-0.317025</td>\n",
       "    </tr>\n",
       "    <tr>\n",
       "      <th>SGRWO-2</th>\n",
       "      <td>north_sea_north_scotlandnorth_sea_north_scotla...</td>\n",
       "      <td>-0.282868</td>\n",
       "    </tr>\n",
       "  </tbody>\n",
       "</table>\n",
       "</div>"
      ],
      "text/plain": [
       "                                                           region  volume_twh\n",
       "generator_name                                                               \n",
       "SGRWO-6         north_sea_north_scotlandnorth_sea_north_scotla...   -1.666509\n",
       "SGRWO-1         north_sea_north_scotlandnorth_sea_north_scotla...   -1.231982\n",
       "MOWEO-1         north_sea_north_scotlandnorth_sea_north_scotla...   -0.877936\n",
       "SGRWO-3         north_sea_north_scotlandnorth_sea_north_scotla...   -0.701540\n",
       "MOWEO-3         north_sea_north_scotlandnorth_sea_north_scotla...   -0.684345\n",
       "MOWEO-2         north_sea_north_scotlandnorth_sea_north_scotla...   -0.680857\n",
       "SGRWO-4         north_sea_north_scotlandnorth_sea_north_scotla...   -0.621286\n",
       "SGRWO-5         north_sea_north_scotlandnorth_sea_north_scotla...   -0.352460\n",
       "DOREW-1         north_scotlandnorth_scotlandnorth_scotlandnort...   -0.317025\n",
       "SGRWO-2         north_sea_north_scotlandnorth_sea_north_scotla...   -0.282868"
      ]
     },
     "execution_count": 12,
     "metadata": {},
     "output_type": "execute_result"
    }
   ],
   "source": [
    "curtail_by_generator = merged_df[['generator_name', 'region','volume_mwh']].groupby('generator_name').sum().sort_values(by = 'volume_mwh')\n",
    "curtail_by_generator.loc[:, 'volume_twh'] = curtail_by_generator.volume_mwh*1e-6\n",
    "curtail_by_generator[['region',  'volume_twh']].head(10)"
   ]
  },
  {
   "cell_type": "markdown",
   "metadata": {},
   "source": [
    "**Monthly curtailment**"
   ]
  },
  {
   "cell_type": "code",
   "execution_count": 13,
   "metadata": {},
   "outputs": [
    {
     "data": {
      "text/html": [
       "<div>\n",
       "<style scoped>\n",
       "    .dataframe tbody tr th:only-of-type {\n",
       "        vertical-align: middle;\n",
       "    }\n",
       "\n",
       "    .dataframe tbody tr th {\n",
       "        vertical-align: top;\n",
       "    }\n",
       "\n",
       "    .dataframe thead th {\n",
       "        text-align: right;\n",
       "    }\n",
       "</style>\n",
       "<table border=\"1\" class=\"dataframe\">\n",
       "  <thead>\n",
       "    <tr style=\"text-align: right;\">\n",
       "      <th></th>\n",
       "      <th>volume_twh</th>\n",
       "    </tr>\n",
       "    <tr>\n",
       "      <th>month</th>\n",
       "      <th></th>\n",
       "    </tr>\n",
       "  </thead>\n",
       "  <tbody>\n",
       "    <tr>\n",
       "      <th>2024-12</th>\n",
       "      <td>-1.359286</td>\n",
       "    </tr>\n",
       "    <tr>\n",
       "      <th>2024-08</th>\n",
       "      <td>-1.223531</td>\n",
       "    </tr>\n",
       "    <tr>\n",
       "      <th>2025-02</th>\n",
       "      <td>-1.153344</td>\n",
       "    </tr>\n",
       "    <tr>\n",
       "      <th>2024-10</th>\n",
       "      <td>-1.058448</td>\n",
       "    </tr>\n",
       "    <tr>\n",
       "      <th>2024-11</th>\n",
       "      <td>-0.796741</td>\n",
       "    </tr>\n",
       "  </tbody>\n",
       "</table>\n",
       "</div>"
      ],
      "text/plain": [
       "         volume_twh\n",
       "month              \n",
       "2024-12   -1.359286\n",
       "2024-08   -1.223531\n",
       "2025-02   -1.153344\n",
       "2024-10   -1.058448\n",
       "2024-11   -0.796741"
      ]
     },
     "execution_count": 13,
     "metadata": {},
     "output_type": "execute_result"
    }
   ],
   "source": [
    "monthly_total_volume = wind_curtail[['date', 'volume_mwh']].groupby(wind_curtail['date'].dt.to_period('M')).agg({'volume_mwh': 'sum'})*(1e-6)\n",
    "monthly_total_volume.rename_axis('month', inplace=True)\n",
    "monthly_total_volume.rename(columns = {'volume_mwh': 'volume_twh'},inplace = True)\n",
    "monthly_total_volume.sort_values(by = 'volume_twh').head(5)"
   ]
  },
  {
   "cell_type": "code",
   "execution_count": 16,
   "metadata": {},
   "outputs": [
    {
     "data": {
      "image/png": "[encoded data removed]",
      "text/plain": [
       "<Figure size 640x480 with 1 Axes>"
      ]
     },
     "metadata": {},
     "output_type": "display_data"
    }
   ],
   "source": [
    "fig, ax = plt.subplots()\n",
    "dates = pd.date_range(start_date, end_date, freq = 'MS')\n",
    "ax.bar(dates, monthly_total_volume.volume_twh, width = 10)\n",
    "tick_positions, tick_labels = plt.xticks()\n",
    "ax.xaxis.set_major_formatter(mdates.DateFormatter('%y-%m'))\n",
    "plt.xticks(rotation = 60);\n",
    "plt.ylabel('Power (TWh)');\n",
    "plt.title('Wind Curtailment (Monthly)');\n",
    "plt.xlabel('Month');\n"
   ]
  },
  {
   "cell_type": "markdown",
   "metadata": {},
   "source": [
    "**Annual Curtailment**"
   ]
  },
  {
   "cell_type": "code",
   "execution_count": 17,
   "metadata": {},
   "outputs": [
    {
     "name": "stdout",
     "output_type": "stream",
     "text": [
      "Curtailments in the year 2023/24 and 2024/25 are -5.24 and -8.76 respectively.\n"
     ]
    }
   ],
   "source": [
    "y2_start_date = '2024-04-01' \n",
    "sum_23 = np.round(wind_curtail[wind_curtail.date < pd.to_datetime(y2_start_date)].volume_mwh.sum()*(1e-6),2)\n",
    "sum_24 = np.round(wind_curtail[wind_curtail.date >= pd.to_datetime(y2_start_date)].volume_mwh.sum()*(1e-6),2)\n",
    "print('Curtailments in the year 2023/24 and 2024/25 are' , sum_23, 'and', sum_24, 'respectively.')"
   ]
  }
 ],
 "metadata": {
  "kernelspec": {
   "display_name": "ml",
   "language": "python",
   "name": "python3"
  },
  "language_info": {
   "codemirror_mode": {
    "name": "ipython",
    "version": 3
   },
   "file_extension": ".py",
   "mimetype": "text/x-python",
   "name": "python",
   "nbconvert_exporter": "python",
   "pygments_lexer": "ipython3",
   "version": "3.11.9"
  }
 },
 "nbformat": 4,
 "nbformat_minor": 2
}
