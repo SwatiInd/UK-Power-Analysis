{
 "cells": [
  {
   "cell_type": "markdown",
   "id": "48a0b40b",
   "metadata": {},
   "source": [
    "## Battery Assets - optimizaiton\n",
    "\n",
    "In this notebook, one battery asset charging/discharging duration is optimized and tested against the price thresholds for charging and discharging. The notebook is structured into the following section:\n",
    "\n",
    "#### Parameters\n",
    "- **Storage Capacity (MWh):** The total amount of energy the battery can store and discharge.  \n",
    "- **Power Rating / Nameplate Capacity (MW)**: It is the maximum rate at which battery can deliver or receive power.\n",
    "e.g.: 100MWh/25MW can deliver 25 MW for 4 hours (100/25). In the UK, most of the battery systems are of 2-hours.\n",
    "- **Charging efficiency**: Percentange of input energy that successfully stored in a battery. \n",
    "- **Discharging efficiency**: The percentage of stored energy that is available when battery is discharged. If a battery has $90\\%$ discharge efficiency, then for 100 kWh (SOC), delivered energy would be 90 kWh.\n",
    "- **Prices:**  Price is the same for charging or discharing energy, in this example, it is considered positive for discharging while negative for charging.\n",
    "- **Price thresholds:** The minimum price for discharging while the maximum price for charging. \n",
    "\n",
    "#### Variables and their bounds\n",
    "**Charging and discharging**\n",
    "Both charging and discharging are periods are described by two terminology: state and energy. State is a binary parameter with 0 being \n",
    "- State: It is a binary parameter with 1 for the period battery is charged while 0 for the other period. \n",
    "- Energy: It is 0 for the period battery is not charged. And, for any other time, it is a non-negative real number. The maximum discharge energy would be equal to power rating time discharge efficiency. The maximum value of charging energy would be power rating/charging efficiency. \n",
    "\n",
    "**State of charge**\n",
    "The state of charge at any time t is a funciton of SOC at t-1 and charged or discharged energy in t duration. \n",
    "$$\\text{SOC}(t) = \\text{SOC}(t-1) + {\\text{charge} (t)} - {\\text{discharge} (t)}$$\n",
    "SOC at t = 0 needs to be known in prior to modeling.\n",
    "\n",
    "\n",
    "### Model constraints:\n",
    "\n",
    "- **Charging or discharging states:**\n",
    "In any time period, either battery is charged or discharged or none. Therefore, the sum of these states at any given t will be less than or equal to 1. \n",
    "$$\\text{charge state}(t) + \\text{charge state}(t) <= 1$$\n",
    "- **Discharging price threshold:** no discharge for price < threshold\n",
    "- **Charging price threshold:** No charging for price > threshold\n",
    "\n",
    "SOC, charging energy, and discharging energy bounds are defined during variables declaration. But, their constraints are defined by the rules. \n",
    "- **SOC constraint**: SOC logic is defined by using a function for its above stated rule.\n",
    "- **Charge or discharge energy**: Non-negative values only when their respective states (charge/discharge) is 1. Otherwise, they should be zero.\n",
    "\n",
    "#### Objective \n",
    "- How much energy is to purchase/sell in different time periods subject to maximize profit for charging and discharging energy. "
   ]
  },
  {
   "cell_type": "code",
   "execution_count": 2,
   "id": "896aaf7b",
   "metadata": {},
   "outputs": [],
   "source": [
    "import numpy as np\n",
    "import pandas as pd\n",
    "import matplotlib.pyplot as plt\n",
    "\n",
    "import pyomo.environ as pyo\n",
    "from pyomo.opt import SolverFactory\n",
    "from pyomo.contrib.solver.solvers import gurobi_direct"
   ]
  },
  {
   "cell_type": "code",
   "execution_count": 6,
   "id": "0788b417",
   "metadata": {},
   "outputs": [],
   "source": [
    "# Battery parameters\n",
    "storage_capacity = 20 # Maximum amount of storing energy (MWh)\n",
    "power_rating = 10 # maximum amount of charge to be relased in an hour (MW)\n",
    "discharging_eff = 0.9 \n",
    "charging_eff = 0.9 \n",
    "initial_soc = 5\n",
    "\n",
    "# Energy prices for 24-hours\n",
    "hourly_price = np.random.randint(0, 15, size=24)\n",
    "\n",
    "#Price thresholds\n",
    "disch_min_threshold = 0 #No discharge for less than 10£/Mwh\n",
    "ch_max_threshold = 0 # Charging only between 0 and 5£/MWh"
   ]
  },
  {
   "cell_type": "markdown",
   "id": "8f40327f",
   "metadata": {},
   "source": [
    "### Section 1: Model initialization, index, and parameters\n",
    "\n",
    "- Model initialization: concrete model \n",
    "- Index: one-dimensional for time  \n",
    "- Parameters: Charging and discharging prices "
   ]
  },
  {
   "cell_type": "code",
   "execution_count": 7,
   "id": "e072b543",
   "metadata": {},
   "outputs": [],
   "source": [
    "model = pyo.ConcreteModel()\n",
    "# Index\n",
    "model.T = pyo.RangeSet(0,23)\n",
    "# Model parameters: \n",
    "model.discharge_price = pyo.Param(model.T, initialize={t: float(hourly_price[t]) for t in model.T}, mutable=False)\n",
    "model.charge_price = pyo.Param(model.T, initialize={t: float(hourly_price[t]) for t in model.T}, mutable=False)\n",
    "discharge_price = model.discharge_price\n",
    "charge_price = model.charge_price"
   ]
  },
  {
   "cell_type": "code",
   "execution_count": 8,
   "id": "80276206",
   "metadata": {},
   "outputs": [],
   "source": [
    "\n",
    "# Variables\n",
    "# Discharging energy in the t period - power rating*discharge_eff \n",
    "model.discharge_energy = pyo.Var(model.T, bounds = (0, power_rating*discharging_eff))\n",
    "# Charging energy per hour - power rating/charging eff\n",
    "model.charge_energy = pyo.Var(model.T, bounds = (0, power_rating/charging_eff))\n",
    "charge_energy = model.charge_energy\n",
    "discharge_energy = model.discharge_energy\n",
    "\n",
    "# charging and discharging state for time period t\n",
    "model.ch_state = pyo.Var(model.T, bounds = (0,1), within = pyo.Binary)\n",
    "model.disch_state = pyo.Var(model.T, bounds = (0,1), within = pyo.Binary)\n",
    "ch_state = model.ch_state\n",
    "disch_state = model.disch_state\n",
    "\n",
    "# State of variables in the beginning of t\n",
    "model.soc = pyo.Var(model.T, bounds = (0, storage_capacity))    \n",
    "soc = model.soc"
   ]
  },
  {
   "cell_type": "code",
   "execution_count": 10,
   "id": "969717c2",
   "metadata": {},
   "outputs": [
    {
     "name": "stdout",
     "output_type": "stream",
     "text": [
      "WARNING: Implicitly replacing the Component attribute disch_allowed\n",
      "(type=<class 'pyomo.core.base.var.IndexedVar'>) on block unknown with a new\n",
      "Component (type=<class 'pyomo.core.base.var.IndexedVar'>). This is usually\n",
      "indicative of a modelling error. To avoid this warning, use\n",
      "block.del_component() and block.add_component().\n",
      "WARNING: Implicitly replacing the Component attribute price_trigger\n",
      "(type=<class 'pyomo.core.base.constraint.IndexedConstraint'>) on block unknown\n",
      "with a new Component (type=<class\n",
      "'pyomo.core.base.constraint.IndexedConstraint'>). This is usually indicative\n",
      "of a modelling error. To avoid this warning, use block.del_component() and\n",
      "block.add_component().\n",
      "WARNING: Implicitly replacing the Component attribute disch_control\n",
      "(type=<class 'pyomo.core.base.constraint.IndexedConstraint'>) on block unknown\n",
      "with a new Component (type=<class\n",
      "'pyomo.core.base.constraint.IndexedConstraint'>). This is usually indicative\n",
      "of a modelling error. To avoid this warning, use block.del_component() and\n",
      "block.add_component().\n",
      "WARNING: Implicitly replacing the Component attribute ch_allowed (type=<class\n",
      "'pyomo.core.base.var.IndexedVar'>) on block unknown with a new Component\n",
      "(type=<class 'pyomo.core.base.var.IndexedVar'>). This is usually indicative of\n",
      "a modelling error. To avoid this warning, use block.del_component() and\n",
      "block.add_component().\n",
      "WARNING: Implicitly replacing the Component attribute charge_trigger\n",
      "(type=<class 'pyomo.core.base.constraint.IndexedConstraint'>) on block unknown\n",
      "with a new Component (type=<class\n",
      "'pyomo.core.base.constraint.IndexedConstraint'>). This is usually indicative\n",
      "of a modelling error. To avoid this warning, use block.del_component() and\n",
      "block.add_component().\n",
      "obj : Size=1, Index=None, Active=True\n",
      "    Key  : Active : Sense    : Expression\n",
      "    None :   True : maximize : 10.0*disch_state[0]*discharge_energy[0] - 10.0*ch_state[0]*charge_energy[0] + 2.0*disch_state[1]*discharge_energy[1] - 2.0*ch_state[1]*charge_energy[1] + disch_state[2]*discharge_energy[2] - ch_state[2]*charge_energy[2] + 13.0*disch_state[3]*discharge_energy[3] - 13.0*ch_state[3]*charge_energy[3] + disch_state[4]*discharge_energy[4] - ch_state[4]*charge_energy[4] + 8.0*disch_state[5]*discharge_energy[5] - 8.0*ch_state[5]*charge_energy[5] + 2.0*disch_state[6]*discharge_energy[6] - 2.0*ch_state[6]*charge_energy[6] + 6.0*disch_state[7]*discharge_energy[7] - 6.0*ch_state[7]*charge_energy[7] + 6.0*disch_state[8]*discharge_energy[8] - 6.0*ch_state[8]*charge_energy[8] + disch_state[9]*discharge_energy[9] - ch_state[9]*charge_energy[9] + 8.0*disch_state[10]*discharge_energy[10] - 8.0*ch_state[10]*charge_energy[10] + disch_state[11]*discharge_energy[11] - ch_state[11]*charge_energy[11] + 7.0*disch_state[12]*discharge_energy[12] - 7.0*ch_state[12]*charge_energy[12] + 12.0*disch_state[13]*discharge_energy[13] - 12.0*ch_state[13]*charge_energy[13] + 12.0*disch_state[14]*discharge_energy[14] - 12.0*ch_state[14]*charge_energy[14] + 9.0*disch_state[15]*discharge_energy[15] - 9.0*ch_state[15]*charge_energy[15] + 8.0*disch_state[16]*discharge_energy[16] - 8.0*ch_state[16]*charge_energy[16] + 0.0*disch_state[17]*discharge_energy[17] - 0.0*ch_state[17]*charge_energy[17] + 4.0*disch_state[18]*discharge_energy[18] - 4.0*ch_state[18]*charge_energy[18] + 11.0*disch_state[19]*discharge_energy[19] - 11.0*ch_state[19]*charge_energy[19] + 0.0*disch_state[20]*discharge_energy[20] - 0.0*ch_state[20]*charge_energy[20] + 8.0*disch_state[21]*discharge_energy[21] - 8.0*ch_state[21]*charge_energy[21] + 14.0*disch_state[22]*discharge_energy[22] - 14.0*ch_state[22]*charge_energy[22] + 9.0*disch_state[23]*discharge_energy[23] - 9.0*ch_state[23]*charge_energy[23]\n",
      "Set parameter OutputFlag to value 1\n",
      "Gurobi Optimizer version 12.0.1 build v12.0.1rc0 (win64 - Windows 11.0 (26100.2))\n",
      "\n",
      "CPU model: 11th Gen Intel(R) Core(TM) i5-1135G7 @ 2.40GHz, instruction set [SSE2|AVX|AVX2|AVX512]\n",
      "Thread count: 4 physical cores, 8 logical processors, using up to 8 threads\n",
      "\n",
      "Optimize a model with 240 rows, 168 columns and 432 nonzeros\n",
      "Model fingerprint: 0x5b17055b\n",
      "Model has 44 quadratic objective terms\n",
      "Model has 24 quadratic constraints\n",
      "Variable types: 72 continuous, 96 integer (96 binary)\n",
      "Coefficient statistics:\n",
      "  Matrix range     [1e-04, 1e+06]\n",
      "  QMatrix range    [1e+00, 1e+00]\n",
      "  QLMatrix range   [1e+00, 1e+00]\n",
      "  Objective range  [0e+00, 0e+00]\n",
      "  QObjective range [2e+00, 3e+01]\n",
      "  Bounds range     [1e+00, 2e+01]\n",
      "  RHS range        [1e+00, 1e+06]\n",
      "  QRHS range       [5e+00, 5e+00]\n",
      "Presolve removed 192 rows and 96 columns\n",
      "Presolve time: 0.01s\n",
      "Presolved: 144 rows, 96 columns, 335 nonzeros\n",
      "Variable types: 72 continuous, 24 integer (24 binary)\n",
      "Found heuristic solution: objective -0.0000000\n",
      "Found heuristic solution: objective 45.0000000\n",
      "\n",
      "Root relaxation: objective 3.280000e+02, 5 iterations, 0.00 seconds (0.00 work units)\n",
      "\n",
      "    Nodes    |    Current Node    |     Objective Bounds      |     Work\n",
      " Expl Unexpl |  Obj  Depth IntInf | Incumbent    BestBd   Gap | It/Node Time\n",
      "\n",
      "*    0     0               0     328.0000000  328.00000  0.00%     -    0s\n",
      "\n",
      "Explored 1 nodes (5 simplex iterations) in 0.06 seconds (0.00 work units)\n",
      "Thread count was 8 (of 8 available processors)\n",
      "\n",
      "Solution count 3: 328 45 -3.2685e-13 \n",
      "\n",
      "Optimal solution found (tolerance 1.00e-04)\n",
      "Best objective 3.280000000000e+02, best bound 3.280000000000e+02, gap 0.0000%\n"
     ]
    },
    {
     "data": {
      "text/plain": [
       "328.0"
      ]
     },
     "execution_count": 10,
     "metadata": {},
     "output_type": "execute_result"
    }
   ],
   "source": [
    "\n",
    "# Constraints\n",
    "# No discharge ⇒  price < discharge_price_threshold\n",
    "\n",
    "# Binary variable to indicate if discharging is allowed\n",
    "model.disch_allowed = pyo.Var(model.T, within=pyo.Binary)\n",
    "\n",
    "# if price > discharge_price_threshold ⇒ disch_allowed = 1  else 0\n",
    "#  disch_allowed = 1 ⇒ disch_state (0,1) \n",
    "#  disch_allowed = 0 ⇒ disch_state (0) \n",
    "M = 1e6  # Big-M value\n",
    "def price_trigger_rule(m, t): \n",
    "    \n",
    "    return m.discharge_price[t] - disch_min_threshold >= 1e-4 - M * (1 - m.disch_allowed[t])\n",
    "model.price_trigger = pyo.Constraint(model.T, rule=price_trigger_rule)\n",
    "def disch_control_rule(m, t):\n",
    "    return m.disch_state[t] <= m.disch_allowed[t]\n",
    "model.disch_control = pyo.Constraint(model.T, rule=disch_control_rule)\n",
    "\n",
    "# Charging price threshold: No charging for price > threshold\n",
    "model.ch_allowed = pyo.Var(model.T, within=pyo.Binary)\n",
    "\n",
    "def charge_price_trigger_rule(m, t):\n",
    "    return m.charge_price[t] - ch_max_threshold <= M * (1 - m.ch_allowed[t])\n",
    "model.charge_trigger = pyo.Constraint(model.T, rule=charge_price_trigger_rule)\n",
    "\n",
    "def charge_control_rule(m, t):\n",
    "    return m.ch_state[t] <= m.ch_allowed[t]\n",
    "model.charge_control = pyo.Constraint(model.T, rule=charge_control_rule)\n",
    "\n",
    "\n",
    "# Constraint 3: State of charge\n",
    "def soc_rule(m, t):\n",
    "    if t == 0:\n",
    "        return m.soc[t] == initial_soc + m.ch_state[t]*m.charge_energy[t] - m.disch_state[t]*m.discharge_energy[t]\n",
    "    else:\n",
    "        return m.soc[t] == m.soc[t-1] + m.ch_state[t]*m.charge_energy[t] - m.disch_state[t]*m.discharge_energy[t]\n",
    "model.soc_con = pyo.Constraint(model.T, rule=soc_rule)\n",
    "\n",
    "# # Constraint 4: Only charging or discharing allowed in one time\n",
    "model.limits = pyo.ConstraintList()\n",
    "for t in model.T:\n",
    "    model.limits.add(expr= (ch_state[t] + disch_state[t]) <=1)\n",
    "    model.limits.add(expr= (ch_state[t] + disch_state[t]) >=0)\n",
    "    \n",
    "    model.limits.add(expr= charge_energy[t] <= (power_rating/charging_eff)*ch_state[t])\n",
    "    model.limits.add(expr= discharge_energy[t] <= (power_rating*discharging_eff)*disch_state[t])\n",
    "    epsilon = 1e-4\n",
    "    model.limits.add(expr= charge_energy[t] >= epsilon*ch_state[t])\n",
    "    model.limits.add(expr= discharge_energy[t] >= epsilon*disch_state[t])\n",
    "\n",
    "\n",
    "# for t in model.T:\n",
    "#     # Upper bound: if ch_state[t] = 0 → charge_energy[t] = 0\n",
    "#     model.limits.add(expr= charge_energy[t] <= (power_rating / charging_eff) * ch_state[t])\n",
    "    \n",
    "    # Lower bound: if charge_energy[t] > 0 → ch_state[t] = 1\n",
    "    # Use small ε to avoid numerical noise\n",
    "\n",
    "\n",
    "# Objective function\n",
    "model.obj = pyo.Objective(expr = (sum([discharge_price[t]*disch_state[t]*discharge_energy[t]\n",
    "                                    - charge_price[t]*ch_state[t]*charge_energy[t] \n",
    "                                    for t in model.T])),\n",
    "                          sense = pyo.maximize)\n",
    "\n",
    "model.obj.pprint()\n",
    "# Solve using Gurobi direct\n",
    "solver = SolverFactory('gurobi_direct')\n",
    "results = solver.solve(model, tee=True)\n",
    "pyo.value(model.obj)"
   ]
  },
  {
   "cell_type": "code",
   "execution_count": 11,
   "id": "9dbbd021",
   "metadata": {},
   "outputs": [],
   "source": [
    "opt_solved = pd.DataFrame({'ch_state': [pyo.value(ch_state[t]) for t in model.T],\n",
    "                          'disch_state': [pyo.value(disch_state[t]) for t in model.T],\n",
    "                          'charge_energy': [pyo.value(charge_energy[t]) for t in model.T],\n",
    "                          'discharge_energy': [pyo.value(discharge_energy[t]) for t in model.T],\n",
    "                            'soc': [pyo.value(soc[t]) for t in model.T],\n",
    "                            'price': [model.charge_price[t] for t in model.T]},\n",
    "                          index = model.T)\n",
    "\n",
    "# opt_solved.head()\n"
   ]
  },
  {
   "cell_type": "code",
   "execution_count": 12,
   "id": "1d98f2f0",
   "metadata": {},
   "outputs": [
    {
     "data": {
      "image/png": "[encoded data removed]",
      "text/plain": [
       "<Figure size 640x480 with 1 Axes>"
      ]
     },
     "metadata": {},
     "output_type": "display_data"
    }
   ],
   "source": [
    "# plt.axhline(xmin = 0, xmax = 24, y= rated_capacity, color = 'red', linestyle = '--');\n",
    "# plt.axhline(xmin = 0, xmax = 24, y= 0, color = 'red', linestyle = '--');\n",
    "# plt.plot(opt_solved['soc']);\n",
    "# plt.step(opt_solved.index, opt_solved['charge_energy']*charging_eff, color = 'black', label = 'charge energy');\n",
    "plt.step(opt_solved.index, opt_solved['discharge_energy']/discharging_eff, color = 'black', label = 'discharge rate');\n",
    "# plt.step(opt_solved.index, hourly_price, color = 'blue', label = 'price', linestyle = '-.')\n",
    "plt.step(opt_solved.index, opt_solved['disch_state'])\n",
    "#Price thresholds\n",
    "# plt.axhline(disch_min_threshold, color = 'red', linestyle = '--', label = 'Discharge price threshold');\n",
    "# plt.axhline(ch_max_threshold, color = 'red', linestyle = '--', label = 'Charge price threshold')\n",
    " \n",
    "plt.xticks(np.arange(0, 24, 2));\n",
    "plt.ylim([-0.5, 21]);\n",
    "plt.legend();"
   ]
  },
  {
   "cell_type": "code",
   "execution_count": 221,
   "id": "be8cc7f0",
   "metadata": {},
   "outputs": [
    {
     "data": {
      "text/html": [
       "<div>\n",
       "<style scoped>\n",
       "    .dataframe tbody tr th:only-of-type {\n",
       "        vertical-align: middle;\n",
       "    }\n",
       "\n",
       "    .dataframe tbody tr th {\n",
       "        vertical-align: top;\n",
       "    }\n",
       "\n",
       "    .dataframe thead th {\n",
       "        text-align: right;\n",
       "    }\n",
       "</style>\n",
       "<table border=\"1\" class=\"dataframe\">\n",
       "  <thead>\n",
       "    <tr style=\"text-align: right;\">\n",
       "      <th></th>\n",
       "      <th>ch_state</th>\n",
       "      <th>disch_state</th>\n",
       "      <th>charge_energy</th>\n",
       "      <th>discharge_energy</th>\n",
       "      <th>soc</th>\n",
       "      <th>price</th>\n",
       "    </tr>\n",
       "  </thead>\n",
       "  <tbody>\n",
       "  </tbody>\n",
       "</table>\n",
       "</div>"
      ],
      "text/plain": [
       "Empty DataFrame\n",
       "Columns: [ch_state, disch_state, charge_energy, discharge_energy, soc, price]\n",
       "Index: []"
      ]
     },
     "execution_count": 221,
     "metadata": {},
     "output_type": "execute_result"
    }
   ],
   "source": [
    "opt_solved[(opt_solved.ch_state !=0)&(opt_solved.charge_energy == 0)]\n",
    "# opt_solved[(opt_solved.ch_state ==0)&(opt_solved.charge_energy != 0)]\n",
    "# opt_solved[(opt_solved.ch_state ==0)&(opt_solved.charge != 0)]"
   ]
  },
  {
   "cell_type": "code",
   "execution_count": 166,
   "id": "f17f4e28",
   "metadata": {},
   "outputs": [],
   "source": [
    "# opt_solved.ch_state + opt_solved.disch_state"
   ]
  },
  {
   "cell_type": "code",
   "execution_count": 13,
   "id": "01a61e27",
   "metadata": {},
   "outputs": [
    {
     "data": {
      "image/png": "[encoded data removed]",
      "text/plain": [
       "<Figure size 640x480 with 1 Axes>"
      ]
     },
     "metadata": {},
     "output_type": "display_data"
    }
   ],
   "source": [
    "plt.step(opt_solved.index, opt_solved['ch_state'], color = 'red', linewidth = 3);\n",
    "plt.step(opt_solved.index, opt_solved['disch_state'], color = 'black');\n",
    "plt.xticks(np.arange(0, 24, 2));"
   ]
  },
  {
   "cell_type": "markdown",
   "id": "be1e85de",
   "metadata": {},
   "source": [
    "🔁 What each variable means:\n",
    "disch_state[t]:\n",
    "This is the actual decision variable that indicates whether you are discharging at time t. It is binary (0 or 1), and used in optimization to calculate revenues, power flow, energy balance, etc.\n",
    "\n",
    "disch_allowed[t]:\n",
    "This is a logical gating variable. It's used to limit when discharging is permitted (e.g., only when price > threshold). It’s a constraint aid, not a decision you’re optimizing for directly.\n",
    "\n",
    "disch_control constraint:\n",
    "Ensures that disch_state[t] <= disch_allowed[t]. Again, this is enforcing logic, not something you include in the objective."
   ]
  },
  {
   "cell_type": "markdown",
   "id": "76e64725",
   "metadata": {},
   "source": [
    "🔍 Metrics Used to Compare:\n",
    "- Total profit / cost savings\n",
    "### Utilization efficiency\n",
    "How effectively the battery’s capacity is being used. You're measuring how much of the available energy throughput is being utilized compared to its maximum potential.\n",
    "\n",
    "$$\\text{Utilization Efficiency} (\\%) =  \\frac{\\text{Total Energy Throughput}}{\\text{Maximum Possible Throughput}}×100$$\n",
    "**Considerations:**\n",
    "- You might include efficiency losses (round-trip).\n",
    "- Cap throughput to avoid over-cycling if degradation is modeled.\n",
    "- If battery sat idle despite price opportunities, utilization will be low.\n",
    "\n",
    "### Battery cycling count (degradation)\n",
    "\n",
    "### SoC compliance\n",
    "\n",
    "\n",
    "### Risk-adjusted return (e.g., Sharpe Ratio)\n",
    "The Sharpe ratio below 1 is considered bad, but usually any sharpe ratio greater than 1 is considered acceptable to good by investors. A ratio higher than 2 is rated as very good and 3 is considered excellent."
   ]
  },
  {
   "cell_type": "code",
   "execution_count": null,
   "id": "fd48a307",
   "metadata": {},
   "outputs": [],
   "source": [
    "throughput = sum(charge_energy[t] + discharge_energy[t] for t in T)\n",
    "max_possible = 2 * max_energy_per_step * len(T)  # charge + discharge at max every step\n",
    "\n",
    "utilization_eff = 100 * throughput / max_possible\n"
   ]
  }
 ],
 "metadata": {
  "kernelspec": {
   "display_name": "ml",
   "language": "python",
   "name": "python3"
  },
  "language_info": {
   "codemirror_mode": {
    "name": "ipython",
    "version": 3
   },
   "file_extension": ".py",
   "mimetype": "text/x-python",
   "name": "python",
   "nbconvert_exporter": "python",
   "pygments_lexer": "ipython3",
   "version": "3.11.9"
  }
 },
 "nbformat": 4,
 "nbformat_minor": 5
}
