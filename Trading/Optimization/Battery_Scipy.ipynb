{
 "cells": [
  {
   "cell_type": "markdown",
   "id": "05a56004",
   "metadata": {},
   "source": [
    "- How much energy is to purchase/sell in different time periods subject to maximize profit or minimize risk \n",
    "- Based on forecasts, contstraints, and market prices\n",
    "- For battery, constraints are battery capacity, charge/discharge rates\n",
    "\n",
    "**Objective**\n",
    "**Maximize Profit = revenue - cost**\n",
    "\n",
    "Revenues are determined from models. Cost, probably from background information."
   ]
  },
  {
   "cell_type": "markdown",
   "id": "8b0d3b39",
   "metadata": {},
   "source": [
    "✅ Example: Battery Arbitrage over 3 Time Slots\n",
    "You have a battery that can buy/sell electricity based on day-ahead prices:\n",
    "\n",
    "- **Prices:** Electricity pricing (£/MWh) for three time periods [£50, £100, £60]. Price is the same for charging or discharing, it can be considered positive for discharging while negative for charging.\n",
    "- **Revenue and cost**: Discharging the battery generates revenue while charging the battery is a cost for asset. Obviously, you can't keep discharging battery, it has to be charged to discharge.\n",
    "\n",
    "- **Constraints:** Max charge/discharge: 10 MWh per hour, total capacity: 10 MWh, Start and end state of charge (SoC): 0"
   ]
  },
  {
   "cell_type": "code",
   "execution_count": null,
   "id": "332a7a68",
   "metadata": {},
   "outputs": [
    {
     "name": "stdout",
     "output_type": "stream",
     "text": [
      "Battery storage capacity: 20 MWh\n",
      "The maximum rate of battery discharge: 10 MW\n",
      "The battery can run at full capacity for 20MWh/10MW\n",
      "Maximum discharge would be: 18.0 MWh\n",
      "To charge maximum capacity of 20 MWh, required energy would be: 22.22 MWh\n"
     ]
    }
   ],
   "source": [
    "# Battery parameters\n",
    "storage_capacity = 20 # Maximum amount of storing energy (MWh)\n",
    "print('Battery storage capacity:', storage_capacity, 'MWh')\n",
    "power_rating = 10 # maximum amount of charge to be relased in an hour (MW)\n",
    "print('The maximum rate of battery discharge:', power_rating, 'MW')\n",
    "print('The battery can run at full capacity for', str(storage_capacity)+str('MWh/')+str(power_rating)+str('MW') )\n",
    "discharging_eff = 0.9 \n",
    "print('Maximum discharge would be:', storage_capacity*discharging_eff, 'MWh')\n",
    "charging_eff = 0.9 \n",
    "print('To charge maximum capacity of', storage_capacity, 'MWh, required energy would be:', np.round(storage_capacity/charging_eff,2), 'MWh')"
   ]
  },
  {
   "cell_type": "code",
   "execution_count": 15,
   "id": "ad931505",
   "metadata": {},
   "outputs": [],
   "source": [
    "import pandas as pd\n",
    "import numpy as np\n",
    "from scipy.optimize import linprog"
   ]
  },
  {
   "cell_type": "markdown",
   "id": "695780d9",
   "metadata": {},
   "source": [
    "**Objective function**: $\\min_x {c}^T x$ \n",
    "\n",
    "- $A_{ub} x \\leq b_{ub}$\n",
    "- $A_{eq} x = b_{eq}$\n",
    "- $l \\leq x \\leq u$\n",
    "\n",
    "- c: 1-D array, coefficients of the linear objective fucntion to be minimized\n",
    "- x: vector of decision variables, \n",
    "- $A_{ub}$ and $A_{eq}$ are upper bounds and equality metrics.\n",
    "- $b_{ub}$ and $b_{eq}$ are inequality constraint vectors.\n",
    "- bounds: sequence of (min, max) pairs for each element in x, defining the minimum and maximum values of that decision variable. If a single tuple (min, max) is provided, then min and max will serve as bounds for all decision variables.  \n"
   ]
  },
  {
   "cell_type": "code",
   "execution_count": null,
   "id": "06fb462b",
   "metadata": {},
   "outputs": [
    {
     "data": {
      "text/plain": [
       "array([ -50, -100,  -60,   50,  100,   60])"
      ]
     },
     "execution_count": 19,
     "metadata": {},
     "output_type": "execute_result"
    }
   ],
   "source": [
    "prices = np.array([50, 100, 60])  \n",
    "# Objective Maximize profit = maximize(price*discharge - price*charge)\n",
    "# Objective functions coefficients - linprog minimizes, so we flip the sig\n",
    "obj_coeff = -1*np.concatenate([prices, -prices]) #discharge, charge \n",
    "obj_coeff"
   ]
  },
  {
   "cell_type": "code",
   "execution_count": 83,
   "id": "c780b6ca",
   "metadata": {},
   "outputs": [
    {
     "data": {
      "text/plain": [
       "[(0, 100), (0, 100), (0, 100), (0, 100), (0, 100), (0, 100)]"
      ]
     },
     "execution_count": 83,
     "metadata": {},
     "output_type": "execute_result"
    }
   ],
   "source": [
    "# Bounds sequence of (min, max) pairs for each element in x,\n",
    "bounds = [(0, 100)]*6\n",
    "bounds"
   ]
  },
  {
   "cell_type": "markdown",
   "id": "6ba2f15f",
   "metadata": {},
   "source": [
    "**Constraints: SOC**\n",
    "\n",
    "$\\text{SOC}(t) = \\sum_{i =1}^t {\\text{charge}_{i}} - \\sum_{i=1}^t {\\text{discharge}_i}$\n",
    "\n",
    "$\\text{SOC}(1) \\leq 10 ⇒ -{d_1} + c_1 \\leq 10$ ⇒ [-1 0 0 1 0 0]\n",
    "\n",
    "$\\text{SOC}(2) \\leq 10 ⇒ -{d_1} + c_1 -{d_2} + c_2\\leq 10$ ⇒ [-1 -1 0 1 1 0]\n",
    "\n",
    "$\\text{SOC}(3) \\leq 10 ⇒ -{d_1} + c_1 -{d_2} + c_2 -{d_3} + c_3\\leq 10$ ⇒ [-1 -1 -1 1 1 1]"
   ]
  },
  {
   "cell_type": "code",
   "execution_count": 95,
   "id": "483cee13",
   "metadata": {},
   "outputs": [],
   "source": [
    "# Ax <= b, soc_upper \n",
    "A_ub = []\n",
    "b_ub = []\n",
    "for t in range(3): # t1, t2, t3\n",
    "    soc_upper = [0]*6 # Initial variables - 0, modified for SOC upper limit\n",
    "    soc_lower = [0]*6 # Initial variables - 0, modified for SOC lower limit\n",
    "    dis_index = np.arange(0, t+1, 1)\n",
    "    charge_index = np.arange(3, t+4, 1)\n",
    "    for index in dis_index:\n",
    "        soc_upper[index] = -1\n",
    "        soc_lower[index] = 1\n",
    "    for index in charge_index:\n",
    "        soc_upper[index] = 0.5\n",
    "        soc_lower[index] = -0.5\n",
    "    A_ub.append(soc_upper)\n",
    "    b_ub.append(100)\n",
    "    A_ub.append(soc_lower)\n",
    "    b_ub.append(0)"
   ]
  },
  {
   "cell_type": "code",
   "execution_count": 94,
   "id": "e651df02",
   "metadata": {},
   "outputs": [
    {
     "data": {
      "text/plain": [
       "[[-1, 0, 0, 1, 0, 0],\n",
       " [0.5, 0, 0, -0.5, 0, 0],\n",
       " [-1, -1, 0, 1, 1, 0],\n",
       " [0.5, 0.5, 0, -0.5, -0.5, 0],\n",
       " [-1, -1, -1, 1, 1, 1],\n",
       " [0.5, 0.5, 0.5, -0.5, -0.5, -0.5]]"
      ]
     },
     "execution_count": 94,
     "metadata": {},
     "output_type": "execute_result"
    }
   ],
   "source": [
    "A_ub"
   ]
  },
  {
   "cell_type": "code",
   "execution_count": 96,
   "id": "303e4897",
   "metadata": {},
   "outputs": [
    {
     "data": {
      "text/plain": [
       "([100, 0, 100, 0, 100, 0], array([ -50, -100,  -60,   50,  100,   60]))"
      ]
     },
     "execution_count": 96,
     "metadata": {},
     "output_type": "execute_result"
    }
   ],
   "source": [
    "b_ub, c"
   ]
  },
  {
   "cell_type": "code",
   "execution_count": 97,
   "id": "aa4f152c",
   "metadata": {},
   "outputs": [
    {
     "data": {
      "text/plain": [
       "array([  0.,  50.,   0., 100.,   0.,   0.])"
      ]
     },
     "execution_count": 97,
     "metadata": {},
     "output_type": "execute_result"
    }
   ],
   "source": [
    "\n",
    "res = linprog(c = obj_coeff, A_ub=A_ub, b_ub=b_ub, bounds=bounds, method=\"highs\")\n",
    "res.x"
   ]
  },
  {
   "cell_type": "code",
   "execution_count": 86,
   "id": "727687fe",
   "metadata": {},
   "outputs": [
    {
     "data": {
      "text/plain": [
       "        message: Optimization terminated successfully. (HiGHS Status 7: Optimal)\n",
       "        success: True\n",
       "         status: 0\n",
       "            fun: -500.0\n",
       "              x: [ 0.000e+00  1.000e+01  0.000e+00  1.000e+01  0.000e+00\n",
       "                  -0.000e+00]\n",
       "            nit: 0\n",
       "          lower:  residual: [ 0.000e+00  1.000e+01  0.000e+00  1.000e+01\n",
       "                              0.000e+00 -0.000e+00]\n",
       "                 marginals: [ 0.000e+00  0.000e+00  0.000e+00  0.000e+00\n",
       "                              0.000e+00  0.000e+00]\n",
       "          upper:  residual: [ 1.000e+02  9.000e+01  1.000e+02  9.000e+01\n",
       "                              1.000e+02  1.000e+02]\n",
       "                 marginals: [ 0.000e+00  0.000e+00  0.000e+00  0.000e+00\n",
       "                              0.000e+00  0.000e+00]\n",
       "          eqlin:  residual: []\n",
       "                 marginals: []\n",
       "        ineqlin:  residual: [ 0.000e+00  1.000e+01  1.000e+01  0.000e+00\n",
       "                              1.000e+01  0.000e+00]\n",
       "                 marginals: [-5.000e+01 -0.000e+00 -0.000e+00 -4.000e+01\n",
       "                             -0.000e+00 -6.000e+01]\n",
       " mip_node_count: 0\n",
       " mip_dual_bound: 0.0\n",
       "        mip_gap: 0.0"
      ]
     },
     "execution_count": 86,
     "metadata": {},
     "output_type": "execute_result"
    }
   ],
   "source": [
    "res"
   ]
  },
  {
   "cell_type": "code",
   "execution_count": 85,
   "id": "56e2e24a",
   "metadata": {},
   "outputs": [
    {
     "data": {
      "text/plain": [
       "array([ 0., 10.,  0., 10.,  0., -0.])"
      ]
     },
     "execution_count": 85,
     "metadata": {},
     "output_type": "execute_result"
    }
   ],
   "source": [
    "res.x"
   ]
  },
  {
   "cell_type": "code",
   "execution_count": null,
   "id": "205267e8",
   "metadata": {},
   "outputs": [],
   "source": [
    "from scipy.optimize import linprog\n",
    "import numpy as np\n",
    "\n",
    "# Market prices (£/MWh)\n",
    "prices = np.array([50, 100, 60])  \n",
    "\n",
    "# Decision variables: charge/discharge at each hour (positive = discharge, negative = charge)\n",
    "# We'll use positive variables: discharge (x1), charge (x2), SoC variables\n",
    "\n",
    "# Variables: [d1, d2, d3, c1, c2, c3]\n",
    "# Objective: Maximize profit → Maximize (price ⋅ discharge) - (price ⋅ charge)\n",
    "# linprog minimizes, so we flip the sign\n",
    "c = -1 * np.concatenate([prices, -prices])  # [discharge, charge]\n",
    "\n",
    "# Bounds for each variable\n",
    "bounds = [(0, 10)] * 6  # max 10 MWh discharge/charge per hour\n",
    "\n",
    "# Constraints\n",
    "A = []\n",
    "b = []\n",
    "\n",
    "# 1. SoC constraint (cumulative energy): SoC = ∑(charge - discharge)\n",
    "# SoC at each step should be within [0, 10]\n",
    "\n",
    "# Build SoC at t1, t2, t3 (SoC must be <= capacity)\n",
    "for t in range(3):\n",
    "    row = [0]*6\n",
    "    for i in range(t+1):\n",
    "        row[i+3] = 1   # charge\n",
    "        row[i] = -1    # discharge\n",
    "    A.append(row)\n",
    "    b.append(10)  # max SoC\n",
    "\n",
    "# SoC >= 0 → -SoC <= 0\n",
    "for t in range(3):\n",
    "    row = [0]*6\n",
    "    for i in range(t+1):\n",
    "        row[i+3] = -1   # charge\n",
    "        row[i] = 1      # discharge\n",
    "    A.append(row)\n",
    "    b.append(0)  # min SoC\n",
    "\n"
   ]
  }
 ],
 "metadata": {
  "kernelspec": {
   "display_name": "ml",
   "language": "python",
   "name": "python3"
  },
  "language_info": {
   "codemirror_mode": {
    "name": "ipython",
    "version": 3
   },
   "file_extension": ".py",
   "mimetype": "text/x-python",
   "name": "python",
   "nbconvert_exporter": "python",
   "pygments_lexer": "ipython3",
   "version": "3.11.9"
  }
 },
 "nbformat": 4,
 "nbformat_minor": 5
}
