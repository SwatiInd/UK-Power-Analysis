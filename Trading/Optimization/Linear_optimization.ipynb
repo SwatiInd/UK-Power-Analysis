{
 "cells": [
  {
   "cell_type": "code",
   "execution_count": 100,
   "id": "8377929f",
   "metadata": {},
   "outputs": [],
   "source": [
    "import pyomo.environ as pyo\n",
    "from pyomo.opt import SolverFactory\n",
    "from pyomo.contrib.solver.solvers import gurobi_direct\n",
    "from pyomo.contrib.solver.solvers import ipopt\n",
    "from pyomo.environ import *"
   ]
  },
  {
   "cell_type": "markdown",
   "id": "6681d058",
   "metadata": {},
   "source": [
    "**Power loading problem**"
   ]
  },
  {
   "cell_type": "code",
   "execution_count": 51,
   "id": "678d2127",
   "metadata": {},
   "outputs": [],
   "source": [
    "import pandas as pd"
   ]
  },
  {
   "cell_type": "code",
   "execution_count": 53,
   "id": "2e09e0b7",
   "metadata": {},
   "outputs": [
    {
     "data": {
      "text/html": [
       "<div>\n",
       "<style scoped>\n",
       "    .dataframe tbody tr th:only-of-type {\n",
       "        vertical-align: middle;\n",
       "    }\n",
       "\n",
       "    .dataframe tbody tr th {\n",
       "        vertical-align: top;\n",
       "    }\n",
       "\n",
       "    .dataframe thead th {\n",
       "        text-align: right;\n",
       "    }\n",
       "</style>\n",
       "<table border=\"1\" class=\"dataframe\">\n",
       "  <thead>\n",
       "    <tr style=\"text-align: right;\">\n",
       "      <th></th>\n",
       "      <th>id</th>\n",
       "      <th>load_demand</th>\n",
       "    </tr>\n",
       "  </thead>\n",
       "  <tbody>\n",
       "    <tr>\n",
       "      <th>0</th>\n",
       "      <td>0</td>\n",
       "      <td>50</td>\n",
       "    </tr>\n",
       "    <tr>\n",
       "      <th>1</th>\n",
       "      <td>1</td>\n",
       "      <td>20</td>\n",
       "    </tr>\n",
       "    <tr>\n",
       "      <th>2</th>\n",
       "      <td>2</td>\n",
       "      <td>30</td>\n",
       "    </tr>\n",
       "  </tbody>\n",
       "</table>\n",
       "</div>"
      ],
      "text/plain": [
       "   id  load_demand\n",
       "0   0           50\n",
       "1   1           20\n",
       "2   2           30"
      ]
     },
     "execution_count": 53,
     "metadata": {},
     "output_type": "execute_result"
    }
   ],
   "source": [
    "gen_data = pd.DataFrame({'id':[0, 1, 2, 3, 4], \n",
    "                         'cost': [0.1, 0.05, 0.3, 0.4, 0.01],\n",
    "                         'gen': [20, 10, 40, 50, 5]})\n",
    "load_data = pd.DataFrame({'id': [0, 1, 2],\n",
    "                          'load_demand': [50, 20, 30]})\n",
    "load_data"
   ]
  },
  {
   "cell_type": "code",
   "execution_count": 54,
   "id": "c1119d21",
   "metadata": {},
   "outputs": [
    {
     "data": {
      "text/plain": [
       "5"
      ]
     },
     "execution_count": 54,
     "metadata": {},
     "output_type": "execute_result"
    }
   ],
   "source": [
    "Ng = len(gen_data)\n",
    "Ng"
   ]
  },
  {
   "cell_type": "code",
   "execution_count": null,
   "id": "7603a7d8",
   "metadata": {},
   "outputs": [],
   "source": [
    "model = pyo.ConcreteModel()\n",
    "model.pg = pyo.Var(range(Ng), bounds = (0, None))\n",
    "# model.pg.pprint()\n",
    "pg = model.pg\n",
    "gen_sum = sum(pg[g] for g in gen_data.index) # variables\n",
    "load_sum = sum(load_data.load_demand)"
   ]
  },
  {
   "cell_type": "code",
   "execution_count": 85,
   "id": "35b26088",
   "metadata": {},
   "outputs": [
    {
     "name": "stdout",
     "output_type": "stream",
     "text": [
      "WARNING: Implicitly replacing the Component attribute balance (type=<class\n",
      "'pyomo.core.base.constraint.ScalarConstraint'>) on block unknown with a new\n",
      "Component (type=<class\n",
      "'pyomo.core.base.constraint.AbstractScalarConstraint'>). This is usually\n",
      "indicative of a modelling error. To avoid this warning, use\n",
      "block.del_component() and block.add_component().\n",
      "WARNING: Implicitly replacing the Component attribute cond (type=<class\n",
      "'pyomo.core.base.constraint.ScalarConstraint'>) on block unknown with a new\n",
      "Component (type=<class\n",
      "'pyomo.core.base.constraint.AbstractScalarConstraint'>). This is usually\n",
      "indicative of a modelling error. To avoid this warning, use\n",
      "block.del_component() and block.add_component().\n",
      "WARNING: Implicitly replacing the Component attribute limits (type=<class\n",
      "'pyomo.core.base.constraint.ConstraintList'>) on block unknown with a new\n",
      "Component (type=<class 'pyomo.core.base.constraint.ConstraintList'>). This is\n",
      "usually indicative of a modelling error. To avoid this warning, use\n",
      "block.del_component() and block.add_component().\n"
     ]
    }
   ],
   "source": [
    "# constraints (in expression: optimization variables before the constant)\n",
    "model.balance = pyo.Constraint(expr= gen_sum == load_sum)\n",
    "model.cond = pyo.Constraint(expr = pg[3]+pg[0] >= load_data.load_demand[0])\n",
    "model.limits = pyo.ConstraintList()\n",
    "for g in gen_data.id:\n",
    "    model.limits.add(expr = pg[g] <= gen_data.gen[g])\n",
    "# Objective function\n",
    "model.obj = pyo.Objective(expr=sum([pg[g]*gen_data.cost[g] for g in gen_data.index]))"
   ]
  },
  {
   "cell_type": "code",
   "execution_count": 86,
   "id": "9853ee28",
   "metadata": {},
   "outputs": [
    {
     "name": "stdout",
     "output_type": "stream",
     "text": [
      "1 Var Declarations\n",
      "    pg : Size=5, Index={0, 1, 2, 3, 4}\n",
      "        Key : Lower : Value : Upper : Fixed : Stale : Domain\n",
      "          0 :     0 :  None :  None : False :  True :  Reals\n",
      "          1 :     0 :  None :  None : False :  True :  Reals\n",
      "          2 :     0 :  None :  None : False :  True :  Reals\n",
      "          3 :     0 :  None :  None : False :  True :  Reals\n",
      "          4 :     0 :  None :  None : False :  True :  Reals\n",
      "\n",
      "1 Objective Declarations\n",
      "    obj : Size=1, Index=None, Active=True\n",
      "        Key  : Active : Sense    : Expression\n",
      "        None :   True : minimize : 0.1*pg[0] + 0.05*pg[1] + 0.3*pg[2] + 0.4*pg[3] + 0.01*pg[4]\n",
      "\n",
      "3 Constraint Declarations\n",
      "    balance : Size=1, Index=None, Active=True\n",
      "        Key  : Lower : Body                                  : Upper : Active\n",
      "        None : 100.0 : pg[0] + pg[1] + pg[2] + pg[3] + pg[4] : 100.0 :   True\n",
      "    cond : Size=1, Index=None, Active=True\n",
      "        Key  : Lower : Body          : Upper : Active\n",
      "        None :  50.0 : pg[3] + pg[0] :  +Inf :   True\n",
      "    limits : Size=5, Index={1, 2, 3, 4, 5}, Active=True\n",
      "        Key : Lower : Body  : Upper : Active\n",
      "          1 :  -Inf : pg[0] :  20.0 :   True\n",
      "          2 :  -Inf : pg[1] :  10.0 :   True\n",
      "          3 :  -Inf : pg[2] :  40.0 :   True\n",
      "          4 :  -Inf : pg[3] :  50.0 :   True\n",
      "          5 :  -Inf : pg[4] :   5.0 :   True\n",
      "\n",
      "5 Declarations: pg balance cond limits obj\n"
     ]
    }
   ],
   "source": [
    "model.pprint()"
   ]
  },
  {
   "cell_type": "code",
   "execution_count": 87,
   "id": "2fe11f67",
   "metadata": {},
   "outputs": [
    {
     "name": "stdout",
     "output_type": "stream",
     "text": [
      "Set parameter OutputFlag to value 1\n",
      "Gurobi Optimizer version 12.0.1 build v12.0.1rc0 (win64 - Windows 11.0 (26100.2))\n",
      "\n",
      "CPU model: 11th Gen Intel(R) Core(TM) i5-1135G7 @ 2.40GHz, instruction set [SSE2|AVX|AVX2|AVX512]\n",
      "Thread count: 4 physical cores, 8 logical processors, using up to 8 threads\n",
      "\n",
      "Optimize a model with 7 rows, 5 columns and 12 nonzeros\n",
      "Model fingerprint: 0x4197304e\n",
      "Coefficient statistics:\n",
      "  Matrix range     [1e+00, 1e+00]\n",
      "  Objective range  [1e-02, 4e-01]\n",
      "  Bounds range     [0e+00, 0e+00]\n",
      "  RHS range        [5e+00, 1e+02]\n",
      "Presolve removed 7 rows and 5 columns\n",
      "Presolve time: 0.01s\n",
      "Presolve: All rows and columns removed\n",
      "Iteration    Objective       Primal Inf.    Dual Inf.      Time\n",
      "       0    2.5050000e+01   0.000000e+00   0.000000e+00      0s\n",
      "\n",
      "Solved in 0 iterations and 0.01 seconds (0.00 work units)\n",
      "Optimal objective  2.505000000e+01\n"
     ]
    }
   ],
   "source": [
    "# Solve using Gurobi direct\n",
    "solver = SolverFactory('gurobi_direct')\n",
    "results = solver.solve(model, tee=True)"
   ]
  },
  {
   "cell_type": "code",
   "execution_count": 89,
   "id": "10e6e7a8",
   "metadata": {},
   "outputs": [
    {
     "data": {
      "text/plain": [
       "[20.0, 10.0, 35.0, 30.0, 5.0]"
      ]
     },
     "execution_count": 89,
     "metadata": {},
     "output_type": "execute_result"
    }
   ],
   "source": [
    "[pyo.value(pg[g]) for g in gen_data.index]"
   ]
  }
 ],
 "metadata": {
  "kernelspec": {
   "display_name": "ml",
   "language": "python",
   "name": "python3"
  },
  "language_info": {
   "codemirror_mode": {
    "name": "ipython",
    "version": 3
   },
   "file_extension": ".py",
   "mimetype": "text/x-python",
   "name": "python",
   "nbconvert_exporter": "python",
   "pygments_lexer": "ipython3",
   "version": "3.11.9"
  }
 },
 "nbformat": 4,
 "nbformat_minor": 5
}
