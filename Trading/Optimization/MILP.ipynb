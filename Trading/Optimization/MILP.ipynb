{
 "cells": [
  {
   "cell_type": "code",
   "execution_count": 37,
   "id": "5a8efd71",
   "metadata": {},
   "outputs": [],
   "source": [
    "import pyomo.environ as pyo\n",
    "from pyomo.opt import SolverFactory\n",
    "from pyomo.contrib.solver.solvers import gurobi_direct\n",
    "from pyomo.contrib.solver.solvers import ipopt\n",
    "from pyomo.environ import *\n",
    "\n",
    "import pandas as pd\n",
    "import time"
   ]
  },
  {
   "cell_type": "code",
   "execution_count": 36,
   "id": "ca229252",
   "metadata": {},
   "outputs": [],
   "source": [
    "# Defining the model\n",
    "model = pyo.ConcreteModel()\n",
    "# Define index set\n",
    "model.I = pyo.RangeSet(1,5)\n",
    "# Model variables\n",
    "model.x = pyo.Var(model.I, bounds = (0, None), within = Integers)\n",
    "model.y = pyo.Var(bounds = (0, None))\n",
    "x = model.x\n",
    "y = model.y\n",
    "\n",
    "# Model constraints\n",
    "x_sum = sum(x[i] for i in model.I) # variables\n",
    "model.c1 = pyo.Constraint(expr = x_sum + y <= 20)\n",
    "model.c2 = pyo.ConstraintList()\n",
    "for i in model.I:\n",
    "    model.c2.add(expr = x[i]+y >= 15)\n",
    "\n",
    "model.c3 = pyo.Constraint(expr = sum(i*x[i] for i in model.I) >=10)\n",
    "model.c4 = pyo.Constraint(expr = x[5] + 2*y >= 30)\n",
    "\n",
    "# Model objective function\n",
    "model.obj = pyo.Objective(expr = x_sum + y, sense = minimize)\n"
   ]
  },
  {
   "cell_type": "code",
   "execution_count": 39,
   "id": "33158a05",
   "metadata": {},
   "outputs": [
    {
     "name": "stdout",
     "output_type": "stream",
     "text": [
      "Set parameter OutputFlag to value 1\n",
      "Gurobi Optimizer version 12.0.1 build v12.0.1rc0 (win64 - Windows 11.0 (26100.2))\n",
      "\n",
      "CPU model: 11th Gen Intel(R) Core(TM) i5-1135G7 @ 2.40GHz, instruction set [SSE2|AVX|AVX2|AVX512]\n",
      "Thread count: 4 physical cores, 8 logical processors, using up to 8 threads\n",
      "\n",
      "Optimize a model with 8 rows, 6 columns and 23 nonzeros\n",
      "Model fingerprint: 0x35883aef\n",
      "Variable types: 1 continuous, 5 integer (0 binary)\n",
      "Coefficient statistics:\n",
      "  Matrix range     [1e+00, 5e+00]\n",
      "  Objective range  [1e+00, 1e+00]\n",
      "  Bounds range     [0e+00, 0e+00]\n",
      "  RHS range        [1e+01, 3e+01]\n",
      "Presolve removed 1 rows and 0 columns\n",
      "Presolve time: 0.00s\n",
      "Presolved: 7 rows, 6 columns, 21 nonzeros\n",
      "Variable types: 0 continuous, 6 integer (0 binary)\n",
      "Found heuristic solution: objective 18.0000000\n",
      "\n",
      "Root relaxation: objective 1.700000e+01, 2 iterations, 0.00 seconds (0.00 work units)\n",
      "\n",
      "    Nodes    |    Current Node    |     Objective Bounds      |     Work\n",
      " Expl Unexpl |  Obj  Depth IntInf | Incumbent    BestBd   Gap | It/Node Time\n",
      "\n",
      "*    0     0               0      17.0000000   17.00000  0.00%     -    0s\n",
      "\n",
      "Explored 1 nodes (2 simplex iterations) in 0.01 seconds (0.00 work units)\n",
      "Thread count was 8 (of 8 available processors)\n",
      "\n",
      "Solution count 2: 17 18 \n",
      "\n",
      "Optimal solution found (tolerance 1.00e-04)\n",
      "Best objective 1.700000000000e+01, best bound 1.700000000000e+01, gap 0.0000%\n",
      "0.03155255317687988\n"
     ]
    }
   ],
   "source": [
    "# Solve using Gurobi direct\n",
    "begin_time = time.time()\n",
    "solver = SolverFactory('gurobi_direct')\n",
    "results = solver.solve(model, tee=True)\n",
    "delta_t = time.time()-begin_time\n",
    "print(delta_t)"
   ]
  },
  {
   "cell_type": "code",
   "execution_count": 40,
   "id": "3b507210",
   "metadata": {},
   "outputs": [
    {
     "name": "stdout",
     "output_type": "stream",
     "text": [
      "1 RangeSet Declarations\n",
      "    I : Dimen=1, Size=5, Bounds=(1, 5)\n",
      "        Key  : Finite : Members\n",
      "        None :   True :   [1:5]\n",
      "\n",
      "2 Var Declarations\n",
      "    x : Size=5, Index=I\n",
      "        Key : Lower : Value : Upper : Fixed : Stale : Domain\n",
      "          1 :     0 :   0.0 :  None : False : False : Integers\n",
      "          2 :     0 :  -0.0 :  None : False : False : Integers\n",
      "          3 :     0 :  -0.0 :  None : False : False : Integers\n",
      "          4 :     0 :  -0.0 :  None : False : False : Integers\n",
      "          5 :     0 :   2.0 :  None : False : False : Integers\n",
      "    y : Size=1, Index=None\n",
      "        Key  : Lower : Value : Upper : Fixed : Stale : Domain\n",
      "        None :     0 :  15.0 :  None : False : False :  Reals\n",
      "\n",
      "1 Objective Declarations\n",
      "    obj : Size=1, Index=None, Active=True\n",
      "        Key  : Active : Sense    : Expression\n",
      "        None :   True : minimize : x[1] + x[2] + x[3] + x[4] + x[5] + y\n",
      "\n",
      "4 Constraint Declarations\n",
      "    c1 : Size=1, Index=None, Active=True\n",
      "        Key  : Lower : Body                                 : Upper : Active\n",
      "        None :  -Inf : x[1] + x[2] + x[3] + x[4] + x[5] + y :  20.0 :   True\n",
      "    c2 : Size=5, Index={1, 2, 3, 4, 5}, Active=True\n",
      "        Key : Lower : Body     : Upper : Active\n",
      "          1 :  15.0 : x[1] + y :  +Inf :   True\n",
      "          2 :  15.0 : x[2] + y :  +Inf :   True\n",
      "          3 :  15.0 : x[3] + y :  +Inf :   True\n",
      "          4 :  15.0 : x[4] + y :  +Inf :   True\n",
      "          5 :  15.0 : x[5] + y :  +Inf :   True\n",
      "    c3 : Size=1, Index=None, Active=True\n",
      "        Key  : Lower : Body                                     : Upper : Active\n",
      "        None :  10.0 : x[1] + 2*x[2] + 3*x[3] + 4*x[4] + 5*x[5] :  +Inf :   True\n",
      "    c4 : Size=1, Index=None, Active=True\n",
      "        Key  : Lower : Body       : Upper : Active\n",
      "        None :  30.0 : x[5] + 2*y :  +Inf :   True\n",
      "\n",
      "8 Declarations: I x y c1 c2 c3 c4 obj\n"
     ]
    }
   ],
   "source": [
    "model.pprint()"
   ]
  },
  {
   "cell_type": "code",
   "execution_count": 42,
   "id": "aae7d078",
   "metadata": {},
   "outputs": [
    {
     "data": {
      "text/plain": [
       "(15.0, [0.0, -0.0, -0.0, -0.0, 2.0], 17.0)"
      ]
     },
     "execution_count": 42,
     "metadata": {},
     "output_type": "execute_result"
    }
   ],
   "source": [
    "pyo.value(y), [pyo.value(x[i]) for i in model.I], pyo.value(model.obj)"
   ]
  }
 ],
 "metadata": {
  "kernelspec": {
   "display_name": "ml",
   "language": "python",
   "name": "python3"
  },
  "language_info": {
   "codemirror_mode": {
    "name": "ipython",
    "version": 3
   },
   "file_extension": ".py",
   "mimetype": "text/x-python",
   "name": "python",
   "nbconvert_exporter": "python",
   "pygments_lexer": "ipython3",
   "version": "3.11.9"
  }
 },
 "nbformat": 4,
 "nbformat_minor": 5
}
